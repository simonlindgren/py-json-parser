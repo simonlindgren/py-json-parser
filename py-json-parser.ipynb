{
 "cells": [
  {
   "cell_type": "markdown",
   "metadata": {},
   "source": [
    "## Parsing JSON files from the Twitter API (Python)\n",
    "\n",
    "This notebook was posted by Simon Lindgren // [@simonlindgren](http://www.twitter.com/simonlindgren) // [simonlindgren.com](http://simonlindgren.com).\n",
    "\n",
    "The Twitter APIs, like many other services on the internet, output data in the interchange format [JSON](https://www.copterlabs.com/json-what-it-is-how-it-works-how-to-use-it/). \n",
    "\n",
    "This notebook is about how to [parse](https://en.wikipedia.org/wiki/Parsing) such data into the more accessible format of pandas dataframes for further analysis or file export."
   ]
  },
  {
   "cell_type": "code",
   "execution_count": null,
   "metadata": {},
   "outputs": [],
   "source": [
    "import json\n",
    "import pandas as pd"
   ]
  },
  {
   "cell_type": "code",
   "execution_count": null,
   "metadata": {
    "collapsed": true
   },
   "outputs": [],
   "source": [
    "# define flattening function from https://gist.github.com/higarmi/6708779\n",
    "def flattenDict(d, result=None):\n",
    "    if result is None:\n",
    "        result = {}\n",
    "    for key in d:\n",
    "        value = d[key]\n",
    "        if isinstance(value, dict):\n",
    "            value1 = {}\n",
    "            for keyIn in value:\n",
    "                value1[\".\".join([key,keyIn])]=value[keyIn]\n",
    "            flattenDict(value1, result)\n",
    "        elif isinstance(value, (list, tuple)):   \n",
    "            for indexB, element in enumerate(value):\n",
    "                if isinstance(element, dict):\n",
    "                    value1 = {}\n",
    "                    index = 0\n",
    "                    for keyIn in element:\n",
    "                        newkey = \".\".join([key,keyIn])        \n",
    "                        value1[\".\".join([key,keyIn])]=value[indexB][keyIn]\n",
    "                        index += 1\n",
    "                    for keyA in value1:\n",
    "                        flattenDict(value1, result)   \n",
    "        else:\n",
    "            result[key]=value\n",
    "    return result"
   ]
  },
  {
   "cell_type": "code",
   "execution_count": null,
   "metadata": {},
   "outputs": [],
   "source": [
    "f = open(\"tweets.json\", \"r\")\n",
    "data_rows = [flattenDict(json.loads(line)) for line in f]\n",
    "\n",
    "df = pd.DataFrame(data_rows)"
   ]
  },
  {
   "cell_type": "code",
   "execution_count": null,
   "metadata": {
    "collapsed": true
   },
   "outputs": [],
   "source": [
    "#list(df) # view available columns"
   ]
  },
  {
   "cell_type": "code",
   "execution_count": null,
   "metadata": {
    "collapsed": true
   },
   "outputs": [],
   "source": [
    "# get the desired columns by name\n",
    "cols = list(['created_at']+           # time of tweet\n",
    "        ['user.name']+         # about the author\n",
    "        ['user.screen_name']+\n",
    "        ['user.description']+\n",
    "        ['user.location']+\n",
    "        ['user.followers_count']+\n",
    "        ['user.friends_count']+    \n",
    "        ['in_reply_to_screen_name']+  # addressee\n",
    "        ['entities.user_mentions.screen_name']+\n",
    "        ['entities.hashtags.text']+  # tweet contents\n",
    "        ['entities.media.type']+\n",
    "        ['entities.media.url']+\n",
    "        ['text']+\n",
    "        ['favorite_count']+          # tweet metadata\n",
    "        ['reply_count']+\n",
    "        ['retweet_count']+\n",
    "        ['quote_count']+\n",
    "        ['lang'])\n",
    "\n",
    "tweets_df = df[cols]\n",
    "tweets_df.columns = ['time', 'user', 'user_sn', 'desc', 'loc', 'followers', 'friends', \n",
    "                     'to_user_sn','mentioning_sns', 'hashtags',\n",
    "                     'media_type', 'media_url', 'text', 'faves', 'replies', 'retweets',\n",
    "                     'quotes', 'lang']\n",
    "\n",
    "\n",
    "tweets_df = tweets_df.replace({'\\n': ' '}, regex=True) # remove linebreaks in the dataframe\n",
    "tweets_df = tweets_df.replace({'\\t': ' '}, regex=True) # remove tabs in the dataframe\n",
    "tweets_df = tweets_df.replace({'\\r': ' '}, regex=True) # remove carriage return in the dataframe\n",
    "\n",
    "tweets_df.head()"
   ]
  },
  {
   "cell_type": "code",
   "execution_count": null,
   "metadata": {
    "collapsed": true
   },
   "outputs": [],
   "source": [
    "# Filter by language\n",
    "tweets_df = tweets_df.loc[tweets_df['lang'] == 'sv']\n",
    "tweets_df.head()"
   ]
  },
  {
   "cell_type": "code",
   "execution_count": null,
   "metadata": {
    "collapsed": true
   },
   "outputs": [],
   "source": [
    "# Export to csv\n",
    "tweets_df.to_csv(\"mega.csv\")"
   ]
  },
  {
   "cell_type": "markdown",
   "metadata": {},
   "source": [
    "##### Export custom csvs"
   ]
  },
  {
   "cell_type": "code",
   "execution_count": null,
   "metadata": {
    "collapsed": true
   },
   "outputs": [],
   "source": [
    "# time and text\n",
    "cols = list(['time']+['text'])\n",
    "tt_df = tweets_df[cols]\n",
    "tt_df.head()\n",
    "tt_df.to_csv(\"tt.csv\")"
   ]
  },
  {
   "cell_type": "code",
   "execution_count": null,
   "metadata": {},
   "outputs": [],
   "source": [
    "# source -> target\n",
    "cols = list(['user_sn']+['to_user_sn'])\n",
    "pairs_df = tweets_df[cols]\n",
    "pairs_df = pairs_df[pd.notnull(pairs_df['to_user_sn'])] # take only rows where target is not empty\n",
    "pairs_df.head()"
   ]
  },
  {
   "cell_type": "markdown",
   "metadata": {},
   "source": [
    "##### Get a column as txt"
   ]
  },
  {
   "cell_type": "code",
   "execution_count": null,
   "metadata": {
    "collapsed": true
   },
   "outputs": [],
   "source": [
    "f = open(\"tweets.txt\", 'w')\n",
    "for tweet in tweets_df['text']:\n",
    "    f.write(tweet + '\\n')"
   ]
  },
  {
   "cell_type": "code",
   "execution_count": null,
   "metadata": {
    "collapsed": true
   },
   "outputs": [],
   "source": [
    "f = open(\"profiles.txt\", 'w')\n",
    "for desc in tweets_df['desc']:\n",
    "    if desc is not None:\n",
    "        f.write(desc + '\\n')\n",
    "    else:\n",
    "        f.write('None\\n')"
   ]
  }
 ],
 "metadata": {
  "kernelspec": {
   "display_name": "Python 3",
   "language": "python",
   "name": "python3"
  },
  "language_info": {
   "codemirror_mode": {
    "name": "ipython",
    "version": 3
   },
   "file_extension": ".py",
   "mimetype": "text/x-python",
   "name": "python",
   "nbconvert_exporter": "python",
   "pygments_lexer": "ipython3",
   "version": "3.6.1"
  }
 },
 "nbformat": 4,
 "nbformat_minor": 2
}
